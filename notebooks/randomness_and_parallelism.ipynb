{
 "cells": [
  {
   "cell_type": "code",
   "execution_count": 1,
   "metadata": {},
   "outputs": [],
   "source": [
    "import numpy as np\n",
    "from concurrent.futures import ThreadPoolExecutor\n",
    "from joblib import Parallel, delayed"
   ]
  },
  {
   "cell_type": "markdown",
   "metadata": {},
   "source": [
    "# Pseudo Random Numbers and parallel computing\n",
    "This notebook highlights the dangers of using pseudo random numbers in our parallelised research code. We will consider three types of code execution: *serial execution* in which instances of a function are called succesively, *concurrent esecution* which takes advantage of multi-threaded cores to run functions asynchronously on the same core, and *parallel execution* which runs instances of a function on multiple cores. \n",
    "\n",
    "\n",
    "## Example : randomly parameterised hydrological model\n",
    "We will consider the hydrological model developed in the research paper. We have a `HydrologicalModel` object, which has parameters that are drawn from distrubutions using `np.random`. We then use the initialised model to produce 6 modelled discharge values for a catchment with `area=1000` km.\n",
    "\n",
    "We will do this process using series, concurrent and parallel execution, and look at how our results differ. In each instance, we will initialise a new random seed prior to each execution using `random.seed(42)`, so each attempt *should* have access to the same list of random numbers."
   ]
  },
  {
   "cell_type": "code",
   "execution_count": 5,
   "metadata": {},
   "outputs": [],
   "source": [
    "class HydrologicalModel:\n",
    "    def __init__(self):\n",
    "        \"\"\"Initialize the model with a stochastic random state.\n",
    "\n",
    "        attributes:\n",
    "            alpha (np.float32) : normally distributed intercept.\n",
    "            beta (np.float32) : normally distributed slope.\n",
    "            sigma (np.float32) : uniformally distributed residual std.\n",
    "            \n",
    "        \"\"\"\n",
    "        self.alpha = np.random.normal(-3.462, 0.529)  # Intercept variation\n",
    "        self.beta = np.random.normal(0.755, 0.085)  # Slope variation\n",
    "        self.sigma = np.random.uniform(1.15, 0.084)  # Error term variation\n",
    "    \n",
    "    def predict_discharge(self, area):\n",
    "        \"\"\"Predict discharge using a stochastic model.\n",
    "        args:\n",
    "            area (int) : the area of catchment for prediction. \n",
    "        returns:\n",
    "            np.float32 : the estimated discharge. \n",
    "        \"\"\"\n",
    "        return np.exp(self.alpha + self.beta * np.log(area)) + np.random.normal(0, self.sigma)\n",
    "\n",
    "# Stochastic simulation function\n",
    "def simulate_discharge(_):\n",
    "    model = HydrologicalModel()\n",
    "    return model.predict_discharge(area=1000)  # Example catchment area (km²)"
   ]
  },
  {
   "cell_type": "code",
   "execution_count": 3,
   "metadata": {},
   "outputs": [],
   "source": [
    "# set random state\n",
    "np.random.seed(42)\n",
    "# Serial Execution\n",
    "serial_results = [simulate_discharge(i) for i in range(6)]\n",
    "\n",
    "np.random.seed(42)\n",
    "# concurrent Execution \n",
    "with ThreadPoolExecutor(max_workers=3) as executor:\n",
    "    thread_results = list(executor.map(simulate_discharge, range(6)))\n",
    "\n",
    "np.random.seed(42)\n",
    "# Parallel Execution\n",
    "process_results = Parallel(n_jobs=3)(delayed(simulate_discharge)(i) for i in range(6))"
   ]
  },
  {
   "cell_type": "code",
   "execution_count": 4,
   "metadata": {},
   "outputs": [
    {
     "name": "stdout",
     "output_type": "stream",
     "text": [
      "Serial Results:  [6.513 8.451 5.648 1.562 3.474 1.646]\n",
      "Threaded Results:  [6.513 8.451 5.648 1.562 3.474 1.646]\n",
      "Multiprocessing Results:  [ 3.573  7.126  6.493 10.309  3.188  2.927]\n"
     ]
    }
   ],
   "source": [
    "print(f\"Serial Results: \", np.round(serial_results, 3))\n",
    "print(\"Threaded Results: \", np.round(thread_results, 3))\n",
    "print(\"Multiprocessing Results: \", np.round(process_results, 3))"
   ]
  },
  {
   "cell_type": "markdown",
   "metadata": {},
   "source": [
    "## Fixing the code : Useing `np-.random.RandomState` and sharing between models\n",
    "The improved code below adds an argument `rng` to the model's `__init__` function. This allows a numpy random number generator to be passed to the model. We also add an argument `seed` to the `simulate_discharge()` function which allows us to set the random state of the `rng` used in a model prior to it being called. By iterating over seeds `[42, 43, 44, 45, 46, 47]` we can ensure that a consistent random seed is used, even in parallel execution. \n",
    "\n",
    "This new approach gets around the issue of `np.random.seed()` not being accessible to the parallel tasks by ensuring that a specific random number generator is allocated to model instances. "
   ]
  },
  {
   "cell_type": "code",
   "execution_count": 9,
   "metadata": {},
   "outputs": [],
   "source": [
    "class HydrologicalModel:\n",
    "    def __init__(self, rng):\n",
    "        \"\"\"Initialize the model with a stochastic random state.\n",
    "        args:\n",
    "            rng (np.default_rng) : a numpy random number generator.\n",
    "        attributes:\n",
    "            alpha (np.float32) : normally distributed intercept.\n",
    "            beta (np.float32) : normally distributed slope.\n",
    "            sigma (np.float32) : uniformally distributed residual std.\n",
    "            \n",
    "        \"\"\"\n",
    "        self.rng = rng\n",
    "        self.alpha = rng.normal(-3.462, 0.529)  # Intercept variation\n",
    "        self.beta = rng.normal(0.755, 0.085)  # Slope variation\n",
    "        self.sigma = rng.uniform(1.15, 0.084)  # Error term variation\n",
    "    \n",
    "    def predict_discharge(self, area):\n",
    "        \"\"\"Predict discharge using a stochastic model.\n",
    "        args:\n",
    "            area (int) : the area of catchment for prediction. \n",
    "        returns:\n",
    "            np.float32 : the estimated discharge. \n",
    "        \"\"\"\n",
    "        return np.exp(self.alpha + self.beta * np.log(area)) + self.rng.normal(0, self.sigma)\n",
    "\n",
    "# Stochastic simulation function\n",
    "def simulate_discharge(seed):\n",
    "    rng = np.random.RandomState(seed)\n",
    "    model = HydrologicalModel(rng)\n",
    "    return model.predict_discharge(area=1000)  # Example catchment area (km²)"
   ]
  },
  {
   "cell_type": "code",
   "execution_count": 10,
   "metadata": {},
   "outputs": [],
   "source": [
    "# set random state\n",
    "# Serial Execution\n",
    "serial_results = [simulate_discharge(42+i) for i in range(6)]\n",
    "\n",
    "# concurrent Execution \n",
    "with ThreadPoolExecutor(max_workers=3) as executor:\n",
    "    thread_results = list(executor.map(simulate_discharge, [42 + i for i in range(6)]))\n",
    "\n",
    "# Parallel Execution\n",
    "process_results = Parallel(n_jobs=3)(delayed(simulate_discharge)(42+i) for i in range(6))"
   ]
  },
  {
   "cell_type": "code",
   "execution_count": 11,
   "metadata": {},
   "outputs": [
    {
     "name": "stdout",
     "output_type": "stream",
     "text": [
      "Serial Results:  [ 6.513  3.113  7.242  6.734 15.514  8.157]\n",
      "Threaded Results:  [ 6.513  3.113  7.242  6.734 15.514  8.157]\n",
      "Multiprocessing Results:  [ 6.513  3.113  7.242  6.734 15.514  8.157]\n"
     ]
    }
   ],
   "source": [
    "print(f\"Serial Results: \", np.round(serial_results, 3))\n",
    "print(\"Threaded Results: \", np.round(thread_results, 3))\n",
    "print(\"Multiprocessing Results: \", np.round(process_results, 3))"
   ]
  }
 ],
 "metadata": {
  "kernelspec": {
   "display_name": "compgeo-repro-workshop",
   "language": "python",
   "name": "python3"
  },
  "language_info": {
   "codemirror_mode": {
    "name": "ipython",
    "version": 3
   },
   "file_extension": ".py",
   "mimetype": "text/x-python",
   "name": "python",
   "nbconvert_exporter": "python",
   "pygments_lexer": "ipython3",
   "version": "3.6.13"
  }
 },
 "nbformat": 4,
 "nbformat_minor": 2
}
